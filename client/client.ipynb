{
 "cells": [
  {
   "cell_type": "code",
   "execution_count": 1,
   "metadata": {},
   "outputs": [],
   "source": [
    "from client import *\n",
    "from IPython.display import display\n",
    "from ipywidgets import widgets"
   ]
  },
  {
   "cell_type": "code",
   "execution_count": 2,
   "metadata": {},
   "outputs": [],
   "source": [
    "sessions = {}"
   ]
  },
  {
   "cell_type": "code",
   "execution_count": 3,
   "metadata": {},
   "outputs": [],
   "source": [
    "user = widgets.Text('ydpl42', description='User:')\n",
    "password = widgets.Password('123456789', description='Password:')\n",
    "telegram_code = widgets.Password('', description='Telegram:')\n",
    "filename = widgets.Text('test.txt', description='File name')\n",
    "text = widgets.Textarea(description='File')\n",
    "send_button = widgets.Button(description=\"Send file\")\n",
    "get_button = widgets.Button(description=\"Get file\")\n",
    "login_button = widgets.Button(description=\"Log in\")\n",
    "\n",
    "def login(sender):\n",
    "    sessions[user.value] = Session('http://localhost:5000', user.value, password.value, debug=True)\n",
    "    print(password.value)\n",
    "    print(user.value)\n",
    "    print(sessions[user.value].login())\n",
    "\n",
    "def get_session():\n",
    "    if user.value not in sessions:\n",
    "        print('Please, login first!')\n",
    "        return None\n",
    "    sessions[user.value].set_code(telegram_code.value)\n",
    "    return sessions[user.value]\n",
    "\n",
    "def send_file(sender):\n",
    "    session = get_session()\n",
    "    session.send_text(filename.value, text.value)\n",
    "    \n",
    "def submit_filename(sender):\n",
    "    session = get_session()\n",
    "    text.value = session.get_text(filename.value)\n",
    "    \n",
    "    \n",
    "filename.on_submit(submit_filename)\n",
    "send_button.on_click(send_file)\n",
    "get_button.on_click(submit_filename)\n",
    "login_button.on_click(login)"
   ]
  },
  {
   "cell_type": "code",
   "execution_count": 4,
   "metadata": {},
   "outputs": [
    {
     "data": {
      "application/vnd.jupyter.widget-view+json": {
       "model_id": "c9a2278b962e49fda06066bc77df1766",
       "version_major": 2,
       "version_minor": 0
      },
      "text/plain": [
       "Text(value='ydpl42', description='User:')"
      ]
     },
     "metadata": {},
     "output_type": "display_data"
    },
    {
     "data": {
      "application/vnd.jupyter.widget-view+json": {
       "model_id": "0421bf17030347e4b183cf0e47d65554",
       "version_major": 2,
       "version_minor": 0
      },
      "text/plain": [
       "Password(description='Password:')"
      ]
     },
     "metadata": {},
     "output_type": "display_data"
    },
    {
     "data": {
      "application/vnd.jupyter.widget-view+json": {
       "model_id": "2919638b994b4a6ba26e6ab4066e573a",
       "version_major": 2,
       "version_minor": 0
      },
      "text/plain": [
       "Password(description='Telegram:')"
      ]
     },
     "metadata": {},
     "output_type": "display_data"
    },
    {
     "data": {
      "application/vnd.jupyter.widget-view+json": {
       "model_id": "f58c77d032d14bdea9db1c297377bc38",
       "version_major": 2,
       "version_minor": 0
      },
      "text/plain": [
       "Text(value='test.txt', description='File name')"
      ]
     },
     "metadata": {},
     "output_type": "display_data"
    },
    {
     "data": {
      "application/vnd.jupyter.widget-view+json": {
       "model_id": "245a3865c434431aad9458d0cb42ef13",
       "version_major": 2,
       "version_minor": 0
      },
      "text/plain": [
       "Textarea(value='', description='File')"
      ]
     },
     "metadata": {},
     "output_type": "display_data"
    },
    {
     "data": {
      "application/vnd.jupyter.widget-view+json": {
       "model_id": "00d6115dde85450da4f5dd95abcc49a2",
       "version_major": 2,
       "version_minor": 0
      },
      "text/plain": [
       "Button(description='Log in', style=ButtonStyle())"
      ]
     },
     "metadata": {},
     "output_type": "display_data"
    },
    {
     "data": {
      "application/vnd.jupyter.widget-view+json": {
       "model_id": "db99e9b8eae04130986c5ceb1eede2c1",
       "version_major": 2,
       "version_minor": 0
      },
      "text/plain": [
       "Button(description='Send file', style=ButtonStyle())"
      ]
     },
     "metadata": {},
     "output_type": "display_data"
    },
    {
     "data": {
      "application/vnd.jupyter.widget-view+json": {
       "model_id": "5804c2eade0c4f4c81e48cbd7bd8c3d8",
       "version_major": 2,
       "version_minor": 0
      },
      "text/plain": [
       "Button(description='Get file', style=ButtonStyle())"
      ]
     },
     "metadata": {},
     "output_type": "display_data"
    },
    {
     "name": "stdout",
     "output_type": "stream",
     "text": [
      "123456789\n",
      "ydpl42\n",
      "We send you code in telegram.\n",
      "Getting key for AES.\n",
      "Key is here.\n",
      "Encrypted data: b'yq9twg1//9FmCcGtvd7RrSJR486hPNFjEvUSAVHTRL0='\n",
      "Decrypted data: b'Hej hej'\n"
     ]
    },
    {
     "ename": "Exception",
     "evalue": "Wrong session code. Please, relogin.",
     "output_type": "error",
     "traceback": [
      "\u001b[0;31m---------------------------------------------------------------------------\u001b[0m",
      "\u001b[0;31mException\u001b[0m                                 Traceback (most recent call last)",
      "\u001b[0;32m<ipython-input-3-8afc4314baa2>\u001b[0m in \u001b[0;36msubmit_filename\u001b[0;34m(sender)\u001b[0m\n\u001b[1;32m     27\u001b[0m \u001b[0;32mdef\u001b[0m \u001b[0msubmit_filename\u001b[0m\u001b[0;34m(\u001b[0m\u001b[0msender\u001b[0m\u001b[0;34m)\u001b[0m\u001b[0;34m:\u001b[0m\u001b[0;34m\u001b[0m\u001b[0m\n\u001b[1;32m     28\u001b[0m     \u001b[0msession\u001b[0m \u001b[0;34m=\u001b[0m \u001b[0mget_session\u001b[0m\u001b[0;34m(\u001b[0m\u001b[0;34m)\u001b[0m\u001b[0;34m\u001b[0m\u001b[0m\n\u001b[0;32m---> 29\u001b[0;31m     \u001b[0mtext\u001b[0m\u001b[0;34m.\u001b[0m\u001b[0mvalue\u001b[0m \u001b[0;34m=\u001b[0m \u001b[0msession\u001b[0m\u001b[0;34m.\u001b[0m\u001b[0mget_text\u001b[0m\u001b[0;34m(\u001b[0m\u001b[0mfilename\u001b[0m\u001b[0;34m.\u001b[0m\u001b[0mvalue\u001b[0m\u001b[0;34m)\u001b[0m\u001b[0;34m\u001b[0m\u001b[0m\n\u001b[0m\u001b[1;32m     30\u001b[0m \u001b[0;34m\u001b[0m\u001b[0m\n\u001b[1;32m     31\u001b[0m \u001b[0;34m\u001b[0m\u001b[0m\n",
      "\u001b[0;32m~/Documents/labs/cryptography/lab2/client/client.py\u001b[0m in \u001b[0;36mget_text\u001b[0;34m(self, name)\u001b[0m\n\u001b[1;32m    113\u001b[0m             \u001b[0;32mreturn\u001b[0m \u001b[0mself\u001b[0m\u001b[0;34m.\u001b[0m\u001b[0mget_text\u001b[0m\u001b[0;34m(\u001b[0m\u001b[0mname\u001b[0m\u001b[0;34m)\u001b[0m\u001b[0;34m\u001b[0m\u001b[0m\n\u001b[1;32m    114\u001b[0m         \u001b[0;32melse\u001b[0m\u001b[0;34m:\u001b[0m\u001b[0;34m\u001b[0m\u001b[0m\n\u001b[0;32m--> 115\u001b[0;31m             \u001b[0;32mraise\u001b[0m \u001b[0mException\u001b[0m\u001b[0;34m(\u001b[0m\u001b[0mresponse\u001b[0m\u001b[0;34m.\u001b[0m\u001b[0mjson\u001b[0m\u001b[0;34m(\u001b[0m\u001b[0;34m)\u001b[0m\u001b[0;34m[\u001b[0m\u001b[0;34m'error'\u001b[0m\u001b[0;34m]\u001b[0m\u001b[0;34m)\u001b[0m\u001b[0;34m\u001b[0m\u001b[0m\n\u001b[0m",
      "\u001b[0;31mException\u001b[0m: Wrong session code. Please, relogin."
     ]
    },
    {
     "name": "stdout",
     "output_type": "stream",
     "text": [
      "Raw data: Hej hej\n",
      "Encrypted data: b'BEQFzH4YFsm4sLPvoDWGbMJ/Xm6adWOkclran99sfDM='\n",
      "Encrypted data: b'6gtJtm3e41sk7KbVgYOpRPRfXy04K72scA2dQdgius0='\n",
      "Decrypted data: b'Hej hej'\n"
     ]
    }
   ],
   "source": [
    "display(user)\n",
    "display(password)\n",
    "display(telegram_code)\n",
    "display(filename)\n",
    "display(text)\n",
    "display(login_button)\n",
    "display(send_button)\n",
    "display(get_button)"
   ]
  },
  {
   "cell_type": "code",
   "execution_count": null,
   "metadata": {},
   "outputs": [],
   "source": []
  }
 ],
 "metadata": {
  "kernelspec": {
   "display_name": "Python 3",
   "language": "python",
   "name": "python3"
  },
  "language_info": {
   "codemirror_mode": {
    "name": "ipython",
    "version": 3
   },
   "file_extension": ".py",
   "mimetype": "text/x-python",
   "name": "python",
   "nbconvert_exporter": "python",
   "pygments_lexer": "ipython3",
   "version": "3.6.6"
  }
 },
 "nbformat": 4,
 "nbformat_minor": 2
}
