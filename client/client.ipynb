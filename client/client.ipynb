{
 "cells": [
  {
   "cell_type": "code",
   "execution_count": 1,
   "metadata": {},
   "outputs": [],
   "source": [
    "from client import *"
   ]
  },
  {
   "cell_type": "code",
   "execution_count": 2,
   "metadata": {},
   "outputs": [],
   "source": [
    "session = Session('http://localhost:5000', 'Daniil', debug=True)"
   ]
  },
  {
   "cell_type": "code",
   "execution_count": 3,
   "metadata": {},
   "outputs": [
    {
     "name": "stdout",
     "output_type": "stream",
     "text": [
      "Getting key for AES.\n",
      "Key is here.\n",
      "Raw data: test text\n",
      "Encrypted data: b'9HH2fIn3/uXZt1U9Wwph0L5zZr+k0hCq3ePXm78VBp4='\n"
     ]
    },
    {
     "data": {
      "text/plain": [
       "'File test.txt is successfully saved.'"
      ]
     },
     "execution_count": 3,
     "metadata": {},
     "output_type": "execute_result"
    }
   ],
   "source": [
    "session.send_text('test.txt', 'test text')"
   ]
  },
  {
   "cell_type": "code",
   "execution_count": 4,
   "metadata": {},
   "outputs": [
    {
     "name": "stdout",
     "output_type": "stream",
     "text": [
      "Encrypted data: b'1Aa4teWG9sqpjj3ebSrudutSrwNzS0oY6lxGIxdCARc='\n",
      "Decrypted data: b'test text'\n"
     ]
    },
    {
     "data": {
      "text/plain": [
       "'test text'"
      ]
     },
     "execution_count": 4,
     "metadata": {},
     "output_type": "execute_result"
    }
   ],
   "source": [
    "session.get_text('test.txt')"
   ]
  },
  {
   "cell_type": "code",
   "execution_count": 7,
   "metadata": {},
   "outputs": [],
   "source": [
    "from IPython.display import display\n",
    "from ipywidgets import widgets"
   ]
  },
  {
   "cell_type": "code",
   "execution_count": 24,
   "metadata": {},
   "outputs": [
    {
     "data": {
      "application/vnd.jupyter.widget-view+json": {
       "model_id": "a1e4675376d649d4ba05d7b7040c5ec5",
       "version_major": 2,
       "version_minor": 0
      },
      "text/plain": [
       "Text(value='Daniil')"
      ]
     },
     "metadata": {},
     "output_type": "display_data"
    },
    {
     "data": {
      "application/vnd.jupyter.widget-view+json": {
       "model_id": "da485ead3fdc47c393a3791f5b89fdf0",
       "version_major": 2,
       "version_minor": 0
      },
      "text/plain": [
       "Text(value='test.txt')"
      ]
     },
     "metadata": {},
     "output_type": "display_data"
    },
    {
     "data": {
      "application/vnd.jupyter.widget-view+json": {
       "model_id": "1ddcbc346a6b4b59b2bc350d724633e7",
       "version_major": 2,
       "version_minor": 0
      },
      "text/plain": [
       "Textarea(value='')"
      ]
     },
     "metadata": {},
     "output_type": "display_data"
    },
    {
     "data": {
      "application/vnd.jupyter.widget-view+json": {
       "model_id": "4a6b649e6f364ec697372e31b6ead419",
       "version_major": 2,
       "version_minor": 0
      },
      "text/plain": [
       "Button(description='Send text', style=ButtonStyle())"
      ]
     },
     "metadata": {},
     "output_type": "display_data"
    },
    {
     "name": "stdout",
     "output_type": "stream",
     "text": [
      "Getting key for AES.\n",
      "Key is here.\n",
      "Encrypted data: b'38f6yHhLd9mjrPVYYb5Dj3b3hLUGO2VGIL9lyRF+P34='\n",
      "Decrypted data: b'Hej hej'\n",
      "Encrypted data: b'T63M3h/+ea9ZtA1jDuCyJwSy6jl2vr8H2R8mVJo1PFE='\n",
      "Decrypted data: b'new sample data'\n",
      "Encrypted data: b'YFpAUtfRCLTUrb2n6AS4z3vC1o4UNM9uLGKHiztiMI6xBQGoZxttBC6ibncEbYQU'\n",
      "Decrypted data: b\"Hello, it's me\\nI was wondering\"\n"
     ]
    }
   ],
   "source": [
    "sessions = {}\n",
    "\n",
    "user = widgets.Text('Daniil')\n",
    "filename = widgets.Text('test.txt')\n",
    "text = widgets.Textarea()\n",
    "send_button = widgets.Button(description=\"Send text\")\n",
    "display(user)\n",
    "display(filename)\n",
    "display(text)\n",
    "display(send_button)\n",
    "\n",
    "def get_session():\n",
    "    if user.value not in sessions:\n",
    "        sessions[user.value] = Session('http://localhost:5000', user.value, debug=True)\n",
    "    return sessions[user.value]\n",
    "\n",
    "def send_file(sender):\n",
    "    session = get_session()\n",
    "    session.send_text(filename.value, text.value)\n",
    "    \n",
    "def submit_filename(sender):\n",
    "    session = get_session()\n",
    "    text.value = session.get_text(filename.value)\n",
    "    \n",
    "    \n",
    "filename.on_submit(submit_filename)\n",
    "send_button.on_click(send_file)"
   ]
  },
  {
   "cell_type": "code",
   "execution_count": null,
   "metadata": {},
   "outputs": [],
   "source": []
  }
 ],
 "metadata": {
  "kernelspec": {
   "display_name": "Python 3",
   "language": "python",
   "name": "python3"
  },
  "language_info": {
   "codemirror_mode": {
    "name": "ipython",
    "version": 3
   },
   "file_extension": ".py",
   "mimetype": "text/x-python",
   "name": "python",
   "nbconvert_exporter": "python",
   "pygments_lexer": "ipython3",
   "version": "3.6.6"
  }
 },
 "nbformat": 4,
 "nbformat_minor": 2
}
