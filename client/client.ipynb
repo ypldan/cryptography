{
 "cells": [
  {
   "cell_type": "code",
   "execution_count": 1,
   "metadata": {},
   "outputs": [],
   "source": [
    "from client import *\n",
    "from IPython.display import display\n",
    "from ipywidgets import widgets"
   ]
  },
  {
   "cell_type": "code",
   "execution_count": 2,
   "metadata": {},
   "outputs": [],
   "source": [
    "sessions = {}"
   ]
  },
  {
   "cell_type": "code",
   "execution_count": 3,
   "metadata": {},
   "outputs": [],
   "source": [
    "user = widgets.Text('Daniil', description='User:')\n",
    "filename = widgets.Text('test.txt', description='File name')\n",
    "text = widgets.Textarea(description='File')\n",
    "send_button = widgets.Button(description=\"Send file\")\n",
    "get_button = widgets.Button(description=\"Get file\")\n",
    "\n",
    "def get_session():\n",
    "    if user.value not in sessions:\n",
    "        sessions[user.value] = Session('http://localhost:5000', user.value, debug=True)\n",
    "    return sessions[user.value]\n",
    "\n",
    "def send_file(sender):\n",
    "    session = get_session()\n",
    "    session.send_text(filename.value, text.value)\n",
    "    \n",
    "def submit_filename(sender):\n",
    "    session = get_session()\n",
    "    text.value = session.get_text(filename.value)\n",
    "    \n",
    "    \n",
    "filename.on_submit(submit_filename)\n",
    "send_button.on_click(send_file)\n",
    "get_button.on_click(submit_filename)"
   ]
  },
  {
   "cell_type": "code",
   "execution_count": 4,
   "metadata": {},
   "outputs": [
    {
     "data": {
      "application/vnd.jupyter.widget-view+json": {
       "model_id": "7cd37c7bb6e743a38b8059b8bcb22cd3",
       "version_major": 2,
       "version_minor": 0
      },
      "text/plain": [
       "Text(value='Daniil', description='User:')"
      ]
     },
     "metadata": {},
     "output_type": "display_data"
    },
    {
     "data": {
      "application/vnd.jupyter.widget-view+json": {
       "model_id": "5284fa36e4f44899b7b35bd5a1551d87",
       "version_major": 2,
       "version_minor": 0
      },
      "text/plain": [
       "Text(value='test.txt', description='File name')"
      ]
     },
     "metadata": {},
     "output_type": "display_data"
    },
    {
     "data": {
      "application/vnd.jupyter.widget-view+json": {
       "model_id": "0e828c5b3b9b40ba88ce810470de65ba",
       "version_major": 2,
       "version_minor": 0
      },
      "text/plain": [
       "Textarea(value='', description='File')"
      ]
     },
     "metadata": {},
     "output_type": "display_data"
    },
    {
     "data": {
      "application/vnd.jupyter.widget-view+json": {
       "model_id": "04897a3b41654fe4bc907afd71c57f3a",
       "version_major": 2,
       "version_minor": 0
      },
      "text/plain": [
       "Button(description='Send file', style=ButtonStyle())"
      ]
     },
     "metadata": {},
     "output_type": "display_data"
    },
    {
     "data": {
      "application/vnd.jupyter.widget-view+json": {
       "model_id": "decdd961694a4e988ac6667f1aee4b09",
       "version_major": 2,
       "version_minor": 0
      },
      "text/plain": [
       "Button(description='Get file', style=ButtonStyle())"
      ]
     },
     "metadata": {},
     "output_type": "display_data"
    },
    {
     "name": "stdout",
     "output_type": "stream",
     "text": [
      "Getting key for AES.\n",
      "Key is here.\n",
      "Encrypted data: b'2blDNHO0N709bl8UKKX9iUPXOfITkEeYfYtT09d5aoA='\n",
      "Decrypted data: b'test data hello'\n",
      "Getting key for AES.\n",
      "Key is here.\n",
      "Encrypted data: b'Towiv+5ogOqb1zBKNPuZ64uQxQz+i9+odXxTpz1V7+0='\n",
      "Decrypted data: b'test data hello'\n",
      "Raw data: test data hello\n",
      "Encrypted data: b'RFA8kvfNpiPRwwX/0HkbadNtS+3mlfVbKg9h5aY4sT0='\n",
      "Raw data: new test data\n",
      "Encrypted data: b'E/P4J4g9nFzyJEc7jivlRnmh5sQqZlZoEvQvuRFz2u0='\n",
      "Encrypted data: b'jR7jkWikul56QUVW1rDHxDhFYjLsheMgf3IBnx78Zq8='\n",
      "Decrypted data: b'new test data'\n",
      "Encrypted data: b'Zci6CspFip57oIuZicHr0ZomJytptddxcesdnI70+YeGkbijQ+ENS3MbnAt/rvZS'\n",
      "Decrypted data: b\"Hello, it's me\\nI was wondering\"\n"
     ]
    }
   ],
   "source": [
    "display(user)\n",
    "display(filename)\n",
    "display(text)\n",
    "display(send_button)\n",
    "display(get_button)"
   ]
  },
  {
   "cell_type": "code",
   "execution_count": null,
   "metadata": {},
   "outputs": [],
   "source": []
  }
 ],
 "metadata": {
  "kernelspec": {
   "display_name": "Python 3",
   "language": "python",
   "name": "python3"
  },
  "language_info": {
   "codemirror_mode": {
    "name": "ipython",
    "version": 3
   },
   "file_extension": ".py",
   "mimetype": "text/x-python",
   "name": "python",
   "nbconvert_exporter": "python",
   "pygments_lexer": "ipython3",
   "version": "3.6.6"
  }
 },
 "nbformat": 4,
 "nbformat_minor": 2
}
