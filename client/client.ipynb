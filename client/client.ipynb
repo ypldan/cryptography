{
 "cells": [
  {
   "cell_type": "code",
   "execution_count": 1,
   "metadata": {},
   "outputs": [],
   "source": [
    "from client import *\n",
    "from IPython.display import display\n",
    "from ipywidgets import widgets"
   ]
  },
  {
   "cell_type": "code",
   "execution_count": 2,
   "metadata": {},
   "outputs": [],
   "source": [
    "sessions = {}"
   ]
  },
  {
   "cell_type": "code",
   "execution_count": 7,
   "metadata": {},
   "outputs": [],
   "source": [
    "user = widgets.Text('ydpl42', description='User:')\n",
    "password = widgets.Password('123456789', description='Password:')\n",
    "telegram_code = widgets.Password('', description='Telegram:')\n",
    "filename = widgets.Text('test.txt', description='File name')\n",
    "text = widgets.Textarea(description='File')\n",
    "send_button = widgets.Button(description=\"Send file\")\n",
    "get_button = widgets.Button(description=\"Get file\")\n",
    "login_button = widgets.Button(description=\"Log in\")\n",
    "\n",
    "def login(sender):\n",
    "    sessions[user.value] = Session('http://localhost:5000', user.value, password.value, debug=True)\n",
    "    print(sessions[user.value].login())\n",
    "\n",
    "def get_session():\n",
    "    if user.value not in sessions:\n",
    "        print('Please, login first!')\n",
    "        return None\n",
    "    sessions[user.value].set_code(telegram_code.value)\n",
    "    return sessions[user.value]\n",
    "\n",
    "def send_file(sender):\n",
    "    session = get_session()\n",
    "    session.send_text(filename.value, text.value)\n",
    "    \n",
    "def submit_filename(sender):\n",
    "    session = get_session()\n",
    "    text.value = session.get_text(filename.value)\n",
    "    \n",
    "    \n",
    "filename.on_submit(submit_filename)\n",
    "send_button.on_click(send_file)\n",
    "get_button.on_click(submit_filename)\n",
    "login_button.on_click(login)"
   ]
  },
  {
   "cell_type": "code",
   "execution_count": 8,
   "metadata": {},
   "outputs": [
    {
     "data": {
      "application/vnd.jupyter.widget-view+json": {
       "model_id": "e4e3972acc574e90a8b5b1c648c900e7",
       "version_major": 2,
       "version_minor": 0
      },
      "text/plain": [
       "Text(value='ydpl42', description='User:')"
      ]
     },
     "metadata": {},
     "output_type": "display_data"
    },
    {
     "data": {
      "application/vnd.jupyter.widget-view+json": {
       "model_id": "801e2c0f3dcf4602be683f3b10302415",
       "version_major": 2,
       "version_minor": 0
      },
      "text/plain": [
       "Password(description='Password:')"
      ]
     },
     "metadata": {},
     "output_type": "display_data"
    },
    {
     "data": {
      "application/vnd.jupyter.widget-view+json": {
       "model_id": "830f8af3727b4bb1b762f097186e72c9",
       "version_major": 2,
       "version_minor": 0
      },
      "text/plain": [
       "Password(description='Telegram:')"
      ]
     },
     "metadata": {},
     "output_type": "display_data"
    },
    {
     "data": {
      "application/vnd.jupyter.widget-view+json": {
       "model_id": "49b3aed850ca4df2be9734c97baf277c",
       "version_major": 2,
       "version_minor": 0
      },
      "text/plain": [
       "Text(value='test.txt', description='File name')"
      ]
     },
     "metadata": {},
     "output_type": "display_data"
    },
    {
     "data": {
      "application/vnd.jupyter.widget-view+json": {
       "model_id": "89576ab9b1a24db1889c578fa649f814",
       "version_major": 2,
       "version_minor": 0
      },
      "text/plain": [
       "Textarea(value='', description='File')"
      ]
     },
     "metadata": {},
     "output_type": "display_data"
    },
    {
     "data": {
      "application/vnd.jupyter.widget-view+json": {
       "model_id": "37d6c4f2825c451eb8574468f38d7dc8",
       "version_major": 2,
       "version_minor": 0
      },
      "text/plain": [
       "Button(description='Log in', style=ButtonStyle())"
      ]
     },
     "metadata": {},
     "output_type": "display_data"
    },
    {
     "data": {
      "application/vnd.jupyter.widget-view+json": {
       "model_id": "1396ec832d944639b7fd574eee6ec3ba",
       "version_major": 2,
       "version_minor": 0
      },
      "text/plain": [
       "Button(description='Send file', style=ButtonStyle())"
      ]
     },
     "metadata": {},
     "output_type": "display_data"
    },
    {
     "data": {
      "application/vnd.jupyter.widget-view+json": {
       "model_id": "d72c1b51f69e4081bb859113e25487f5",
       "version_major": 2,
       "version_minor": 0
      },
      "text/plain": [
       "Button(description='Get file', style=ButtonStyle())"
      ]
     },
     "metadata": {},
     "output_type": "display_data"
    },
    {
     "name": "stdout",
     "output_type": "stream",
     "text": [
      "We sent you code in telegram.\n",
      "Getting key for AES.\n",
      "Key is here.\n",
      "Encrypted data: b'EZBQbisNMe+fOXAwkKwzsl88yfsEaMgSVFbwUBW1xh0='\n",
      "Decrypted data: b'Hej hej hej'\n",
      "Encrypted data: b'IF37E6GVmrGaAMZcP7EF1SaBDztvLA2n04gwut8mE1A='\n",
      "Decrypted data: b'Hej hej hej'\n",
      "Raw data: Hej hej hej, Anya\n",
      "Encrypted data: b'oWBY/uao1zZcTfpC2effyMn5LJ7ZEZujRbNTquDyMq+GmipLvFFB+Dg8KzEuu12L'\n"
     ]
    }
   ],
   "source": [
    "display(user)\n",
    "display(password)\n",
    "display(telegram_code)\n",
    "display(filename)\n",
    "display(text)\n",
    "display(login_button)\n",
    "display(send_button)\n",
    "display(get_button)"
   ]
  },
  {
   "cell_type": "code",
   "execution_count": null,
   "metadata": {},
   "outputs": [],
   "source": []
  }
 ],
 "metadata": {
  "kernelspec": {
   "display_name": "Python 3",
   "language": "python",
   "name": "python3"
  },
  "language_info": {
   "codemirror_mode": {
    "name": "ipython",
    "version": 3
   },
   "file_extension": ".py",
   "mimetype": "text/x-python",
   "name": "python",
   "nbconvert_exporter": "python",
   "pygments_lexer": "ipython3",
   "version": "3.6.6"
  }
 },
 "nbformat": 4,
 "nbformat_minor": 2
}
