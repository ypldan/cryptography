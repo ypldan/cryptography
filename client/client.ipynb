{
 "cells": [
  {
   "cell_type": "code",
   "execution_count": 5,
   "metadata": {},
   "outputs": [],
   "source": [
    "from client import *\n",
    "from IPython.display import display\n",
    "from ipywidgets import widgets"
   ]
  },
  {
   "cell_type": "code",
   "execution_count": 6,
   "metadata": {},
   "outputs": [],
   "source": [
    "sessions = {}"
   ]
  },
  {
   "cell_type": "code",
   "execution_count": 7,
   "metadata": {},
   "outputs": [],
   "source": [
    "user = widgets.Text('Daniil', description='User:')\n",
    "filename = widgets.Text('test.txt', description='File name')\n",
    "text = widgets.Textarea(description='File')\n",
    "send_button = widgets.Button(description=\"Send file\")\n",
    "get_button = widgets.Button(description=\"Get file\")\n",
    "\n",
    "def get_session():\n",
    "    if user.value not in sessions:\n",
    "        sessions[user.value] = Session('http://localhost:5000', user.value, debug=True)\n",
    "    return sessions[user.value]\n",
    "\n",
    "def send_file(sender):\n",
    "    session = get_session()\n",
    "    session.send_text(filename.value, text.value)\n",
    "    \n",
    "def submit_filename(sender):\n",
    "    session = get_session()\n",
    "    text.value = session.get_text(filename.value)\n",
    "    \n",
    "    \n",
    "filename.on_submit(submit_filename)\n",
    "send_button.on_click(send_file)\n",
    "get_button.on_click(submit_filename)"
   ]
  },
  {
   "cell_type": "code",
   "execution_count": 10,
   "metadata": {},
   "outputs": [
    {
     "data": {
      "application/vnd.jupyter.widget-view+json": {
       "model_id": "c8c0471202b5490fb1771becf5231923",
       "version_major": 2,
       "version_minor": 0
      },
      "text/plain": [
       "Text(value='Daniil', description='User:')"
      ]
     },
     "metadata": {},
     "output_type": "display_data"
    },
    {
     "data": {
      "application/vnd.jupyter.widget-view+json": {
       "model_id": "edbfe836eb9d4c0c838eab66ed638b17",
       "version_major": 2,
       "version_minor": 0
      },
      "text/plain": [
       "Text(value='test.txt', description='File name')"
      ]
     },
     "metadata": {},
     "output_type": "display_data"
    },
    {
     "data": {
      "application/vnd.jupyter.widget-view+json": {
       "model_id": "5a5af82c70c146b88a76c9b4c1b3d593",
       "version_major": 2,
       "version_minor": 0
      },
      "text/plain": [
       "Textarea(value='new test data', description='File')"
      ]
     },
     "metadata": {},
     "output_type": "display_data"
    },
    {
     "data": {
      "application/vnd.jupyter.widget-view+json": {
       "model_id": "f27b2985558148caaa87f0145cb6d0b7",
       "version_major": 2,
       "version_minor": 0
      },
      "text/plain": [
       "Button(description='Send file', style=ButtonStyle())"
      ]
     },
     "metadata": {},
     "output_type": "display_data"
    },
    {
     "data": {
      "application/vnd.jupyter.widget-view+json": {
       "model_id": "fdbe3079f6a44214a49f4f71cb3b76e2",
       "version_major": 2,
       "version_minor": 0
      },
      "text/plain": [
       "Button(description='Get file', style=ButtonStyle())"
      ]
     },
     "metadata": {},
     "output_type": "display_data"
    },
    {
     "name": "stdout",
     "output_type": "stream",
     "text": [
      "Encrypted data: b'Me4pQNz4IkaBydbUz5Sy2zsUlByB4HcOzNI6GYB/AyU='\n",
      "Decrypted data: b'new test data'\n"
     ]
    }
   ],
   "source": [
    "display(user)\n",
    "display(filename)\n",
    "display(text)\n",
    "display(send_button)\n",
    "display(get_button)"
   ]
  }
 ],
 "metadata": {
  "kernelspec": {
   "display_name": "Python 3",
   "language": "python",
   "name": "python3"
  },
  "language_info": {
   "codemirror_mode": {
    "name": "ipython",
    "version": 3
   },
   "file_extension": ".py",
   "mimetype": "text/x-python",
   "name": "python",
   "nbconvert_exporter": "python",
   "pygments_lexer": "ipython3",
   "version": "3.6.6"
  }
 },
 "nbformat": 4,
 "nbformat_minor": 2
}
