{
 "cells": [
  {
   "cell_type": "code",
   "execution_count": null,
   "metadata": {},
   "outputs": [],
   "source": [
    "from client import *\n",
    "from IPython.display import display\n",
    "from ipywidgets import widgets"
   ]
  },
  {
   "cell_type": "code",
   "execution_count": null,
   "metadata": {},
   "outputs": [],
   "source": [
    "sessions = {}"
   ]
  },
  {
   "cell_type": "code",
   "execution_count": null,
   "metadata": {},
   "outputs": [],
   "source": [
    "user = widgets.Text('ydpl42', description='User:')\n",
    "password = widgets.Password('123456789', description='Password:')\n",
    "telegram_code = widgets.Password('', description='Telegram:')\n",
    "filename = widgets.Text('test.txt', description='File name')\n",
    "text = widgets.Textarea(description='File')\n",
    "send_button = widgets.Button(description=\"Send file\")\n",
    "get_button = widgets.Button(description=\"Get file\")\n",
    "login_button = widgets.Button(description=\"Log in\")\n",
    "\n",
    "def login(sender):\n",
    "    sessions[user.value] = Session('http://localhost:5000', user.value, password.value, debug=True)\n",
    "    print(sessions[user.value].login())\n",
    "\n",
    "def get_session():\n",
    "    if user.value not in sessions:\n",
    "        print('Please, login first!')\n",
    "        return None\n",
    "    sessions[user.value].set_code(telegram_code.value)\n",
    "    return sessions[user.value]\n",
    "\n",
    "def send_file(sender):\n",
    "    session = get_session()\n",
    "    session.send_text(filename.value, text.value)\n",
    "    \n",
    "def submit_filename(sender):\n",
    "    session = get_session()\n",
    "    text.value = session.get_text(filename.value)\n",
    "    \n",
    "    \n",
    "filename.on_submit(submit_filename)\n",
    "send_button.on_click(send_file)\n",
    "get_button.on_click(submit_filename)\n",
    "login_button.on_click(login)"
   ]
  },
  {
   "cell_type": "code",
   "execution_count": null,
   "metadata": {},
   "outputs": [],
   "source": [
    "display(user)\n",
    "display(password)\n",
    "display(telegram_code)\n",
    "display(filename)\n",
    "display(text)\n",
    "display(login_button)\n",
    "display(send_button)\n",
    "display(get_button)"
   ]
  }
 ],
 "metadata": {
  "kernelspec": {
   "display_name": "Python 3",
   "language": "python",
   "name": "python3"
  },
  "language_info": {
   "codemirror_mode": {
    "name": "ipython",
    "version": 3
   },
   "file_extension": ".py",
   "mimetype": "text/x-python",
   "name": "python",
   "nbconvert_exporter": "python",
   "pygments_lexer": "ipython3",
   "version": "3.6.6"
  }
 },
 "nbformat": 4,
 "nbformat_minor": 2
}
